{
  "nbformat": 4,
  "nbformat_minor": 0,
  "metadata": {
    "colab": {
      "provenance": []
    },
    "kernelspec": {
      "name": "python3",
      "display_name": "Python 3"
    },
    "language_info": {
      "name": "python"
    }
  },
  "cells": [
    {
      "cell_type": "code",
      "execution_count": 16,
      "metadata": {
        "id": "StjdSGUhHVGD",
        "colab": {
          "base_uri": "https://localhost:8080/"
        },
        "outputId": "739c4931-30fc-4c6e-a941-b7833d1d03b9"
      },
      "outputs": [
        {
          "output_type": "stream",
          "name": "stdout",
          "text": [
            "Enter a movie storyline: the hero fights in a tough boxing match and wins it\n",
            "\n",
            "Top 5 Movie Recommendations:\n",
            "\n",
            "1. Jungleland\n",
            "   Two brothers try to escape their circumstances by travelling across the country for a no holds barred boxing match that becomes a fight for their lives.\n",
            "\n",
            "2. Judgment Night\n",
            "   Four young friends, while taking a shortcut en route to a local boxing match, witness a brutal murder which leaves them running for their lives.\n",
            "\n",
            "3. Grudge Match\n",
            "   A pair of aging boxing rivals are coaxed out of retirement to fight one final bout, thirty years after their last match.\n",
            "\n",
            "4. The Sting II\n",
            "   A team of cons is planning a new scam involving betting on a boxing match but one of its past victims aims to exact revenge by eliminating the whole group.\n",
            "\n",
            "5. Heart of a Lion\n",
            "   The life and boxing career of George Foreman.\n",
            "\n"
          ]
        }
      ],
      "source": [
        "# 1️⃣ Install dependencies\n",
        "!pip install -q nltk scikit-learn pandas\n",
        "\n",
        "# 2️⃣ Imports & NLTK setup\n",
        "import os, re\n",
        "import pandas as pd\n",
        "import nltk\n",
        "from nltk.corpus import stopwords\n",
        "from sklearn.feature_extraction.text import TfidfVectorizer\n",
        "from sklearn.metrics.pairwise import cosine_similarity\n",
        "\n",
        "nltk.download('stopwords', quiet=True)\n",
        "\n",
        "# 3️⃣ Load dataset\n",
        "dataset_filename = '/content/sample_data/25k IMDb movie Dataset.csv'\n",
        "if not os.path.exists(dataset_filename):\n",
        "    raise FileNotFoundError(\n",
        "        f\"'{dataset_filename}' not found. Place the CSV in the working directory.\"\n",
        "    )\n",
        "df = pd.read_csv(dataset_filename)\n",
        "\n",
        "# 4️⃣ Normalize column names\n",
        "if any(col.lower() == 'movie title' for col in df.columns):\n",
        "    old = next(col for col in df.columns if col.lower() == 'movie title')\n",
        "    df.rename(columns={old: 'Movie Name'}, inplace=True)\n",
        "if any(col.lower() == 'overview' for col in df.columns):\n",
        "    old = next(col for col in df.columns if col.lower() == 'overview')\n",
        "    df.rename(columns={old: 'Storyline'}, inplace=True)\n",
        "assert 'Movie Name' in df.columns and 'Storyline' in df.columns, \"Dataset must contain 'Movie Name' and 'Storyline'.\"\n",
        "\n",
        "# 5️⃣ Preprocessing function\n",
        "stop_words = set(stopwords.words('english'))\n",
        "def preprocess(text: str) -> str:\n",
        "    text = text.lower() if isinstance(text, str) else ''\n",
        "    text = re.sub(r'[^a-z\\s]', ' ', text)\n",
        "    tokens = [tok for tok in text.split() if tok not in stop_words]\n",
        "    return ' '.join(tokens)\n",
        "\n",
        "df['clean_story'] = df['Storyline'].apply(preprocess)\n",
        "\n",
        "# 6️⃣ TF-IDF Vectorization\n",
        "vectorizer = TfidfVectorizer()\n",
        "tfidf_matrix = vectorizer.fit_transform(df['clean_story'])\n",
        "\n",
        "# 7️⃣ Recommendation function\n",
        "def get_recommendations(storyline: str, top_n: int = 5):\n",
        "    vec = vectorizer.transform([preprocess(storyline)])\n",
        "    sims = cosine_similarity(vec, tfidf_matrix).flatten()\n",
        "    idxs = sims.argsort()[-top_n:][::-1]\n",
        "    return df[['Movie Name', 'Storyline']].iloc[idxs].reset_index(drop=True)\n",
        "\n",
        "# 8️⃣ Prompt & display recommendations\n",
        "story_input = input(\"Enter a movie storyline: \").strip()\n",
        "if not story_input:\n",
        "    raise ValueError(\"Please enter a non-empty storyline.\")\n",
        "\n",
        "recs = get_recommendations(story_input)\n",
        "print(\"\\nTop 5 Movie Recommendations:\\n\")\n",
        "for i, row in recs.iterrows():\n",
        "    print(f\"{i+1}. {row['Movie Name']}\")\n",
        "    print(f\"   {row['Storyline']}\\n\")\n"
      ]
    }
  ]
}