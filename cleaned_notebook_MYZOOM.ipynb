{
  "cells": [
    {
      "cell_type": "markdown",
      "metadata": {
        "id": "view-in-github",
        "colab_type": "text"
      },
      "source": [
        "<a href=\"https://colab.research.google.com/github/Karthikt04/NM/blob/main/cleaned_notebook_MYZOOM.ipynb\" target=\"_parent\"><img src=\"https://colab.research.google.com/assets/colab-badge.svg\" alt=\"Open In Colab\"/></a>"
      ]
    },
    {
      "cell_type": "code",
      "execution_count": null,
      "metadata": {
        "id": "D-MPupSrYF3t"
      },
      "outputs": [],
      "source": [
        "# Install dependencies\n",
        "!pip install --quiet transformers datasets torch scikit-learn pandas openpyxl gradio"
      ]
    },
    {
      "cell_type": "code",
      "execution_count": null,
      "metadata": {
        "id": "312vbTQZgnt-"
      },
      "outputs": [],
      "source": [
        "#Imports\n",
        "import pandas as pd\n",
        "import numpy as np\n",
        "from sklearn.model_selection import train_test_split\n",
        "from sklearn.metrics import accuracy_score, precision_recall_fscore_support, confusion_matrix\n",
        "from transformers import AutoTokenizer, AutoModelForSequenceClassification, TrainingArguments, Trainer\n",
        "from datasets import Dataset, DatasetDict\n",
        "import torch"
      ]
    },
    {
      "cell_type": "code",
      "execution_count": null,
      "metadata": {
        "colab": {
          "base_uri": "https://localhost:8080/",
          "height": 164
        },
        "id": "-e0a512ohPNM",
        "outputId": "32316607-91bd-44a2-c27d-63342094170c"
      },
      "outputs": [
        {
          "name": "stdout",
          "output_type": "stream",
          "text": [
            "Upload 'train.xlsx':\n"
          ]
        },
        {
          "data": {
            "text/html": [
              "\n",
              "     <input type=\"file\" id=\"files-caf0418c-67ee-4af8-b878-07373ae4c7e1\" name=\"files[]\" multiple disabled\n",
              "        style=\"border:none\" />\n",
              "     <output id=\"result-caf0418c-67ee-4af8-b878-07373ae4c7e1\">\n",
              "      Upload widget is only available when the cell has been executed in the\n",
              "      current browser session. Please rerun this cell to enable.\n",
              "      </output>\n",
              "      <script>// Copyright 2017 Google LLC\n",
              "//\n",
              "// Licensed under the Apache License, Version 2.0 (the \"License\");\n",
              "// you may not use this file except in compliance with the License.\n",
              "// You may obtain a copy of the License at\n",
              "//\n",
              "//      http://www.apache.org/licenses/LICENSE-2.0\n",
              "//\n",
              "// Unless required by applicable law or agreed to in writing, software\n",
              "// distributed under the License is distributed on an \"AS IS\" BASIS,\n",
              "// WITHOUT WARRANTIES OR CONDITIONS OF ANY KIND, either express or implied.\n",
              "// See the License for the specific language governing permissions and\n",
              "// limitations under the License.\n",
              "\n",
              "/**\n",
              " * @fileoverview Helpers for google.colab Python module.\n",
              " */\n",
              "(function(scope) {\n",
              "function span(text, styleAttributes = {}) {\n",
              "  const element = document.createElement('span');\n",
              "  element.textContent = text;\n",
              "  for (const key of Object.keys(styleAttributes)) {\n",
              "    element.style[key] = styleAttributes[key];\n",
              "  }\n",
              "  return element;\n",
              "}\n",
              "\n",
              "// Max number of bytes which will be uploaded at a time.\n",
              "const MAX_PAYLOAD_SIZE = 100 * 1024;\n",
              "\n",
              "function _uploadFiles(inputId, outputId) {\n",
              "  const steps = uploadFilesStep(inputId, outputId);\n",
              "  const outputElement = document.getElementById(outputId);\n",
              "  // Cache steps on the outputElement to make it available for the next call\n",
              "  // to uploadFilesContinue from Python.\n",
              "  outputElement.steps = steps;\n",
              "\n",
              "  return _uploadFilesContinue(outputId);\n",
              "}\n",
              "\n",
              "// This is roughly an async generator (not supported in the browser yet),\n",
              "// where there are multiple asynchronous steps and the Python side is going\n",
              "// to poll for completion of each step.\n",
              "// This uses a Promise to block the python side on completion of each step,\n",
              "// then passes the result of the previous step as the input to the next step.\n",
              "function _uploadFilesContinue(outputId) {\n",
              "  const outputElement = document.getElementById(outputId);\n",
              "  const steps = outputElement.steps;\n",
              "\n",
              "  const next = steps.next(outputElement.lastPromiseValue);\n",
              "  return Promise.resolve(next.value.promise).then((value) => {\n",
              "    // Cache the last promise value to make it available to the next\n",
              "    // step of the generator.\n",
              "    outputElement.lastPromiseValue = value;\n",
              "    return next.value.response;\n",
              "  });\n",
              "}\n",
              "\n",
              "/**\n",
              " * Generator function which is called between each async step of the upload\n",
              " * process.\n",
              " * @param {string} inputId Element ID of the input file picker element.\n",
              " * @param {string} outputId Element ID of the output display.\n",
              " * @return {!Iterable<!Object>} Iterable of next steps.\n",
              " */\n",
              "function* uploadFilesStep(inputId, outputId) {\n",
              "  const inputElement = document.getElementById(inputId);\n",
              "  inputElement.disabled = false;\n",
              "\n",
              "  const outputElement = document.getElementById(outputId);\n",
              "  outputElement.innerHTML = '';\n",
              "\n",
              "  const pickedPromise = new Promise((resolve) => {\n",
              "    inputElement.addEventListener('change', (e) => {\n",
              "      resolve(e.target.files);\n",
              "    });\n",
              "  });\n",
              "\n",
              "  const cancel = document.createElement('button');\n",
              "  inputElement.parentElement.appendChild(cancel);\n",
              "  cancel.textContent = 'Cancel upload';\n",
              "  const cancelPromise = new Promise((resolve) => {\n",
              "    cancel.onclick = () => {\n",
              "      resolve(null);\n",
              "    };\n",
              "  });\n",
              "\n",
              "  // Wait for the user to pick the files.\n",
              "  const files = yield {\n",
              "    promise: Promise.race([pickedPromise, cancelPromise]),\n",
              "    response: {\n",
              "      action: 'starting',\n",
              "    }\n",
              "  };\n",
              "\n",
              "  cancel.remove();\n",
              "\n",
              "  // Disable the input element since further picks are not allowed.\n",
              "  inputElement.disabled = true;\n",
              "\n",
              "  if (!files) {\n",
              "    return {\n",
              "      response: {\n",
              "        action: 'complete',\n",
              "      }\n",
              "    };\n",
              "  }\n",
              "\n",
              "  for (const file of files) {\n",
              "    const li = document.createElement('li');\n",
              "    li.append(span(file.name, {fontWeight: 'bold'}));\n",
              "    li.append(span(\n",
              "        `(${file.type || 'n/a'}) - ${file.size} bytes, ` +\n",
              "        `last modified: ${\n",
              "            file.lastModifiedDate ? file.lastModifiedDate.toLocaleDateString() :\n",
              "                                    'n/a'} - `));\n",
              "    const percent = span('0% done');\n",
              "    li.appendChild(percent);\n",
              "\n",
              "    outputElement.appendChild(li);\n",
              "\n",
              "    const fileDataPromise = new Promise((resolve) => {\n",
              "      const reader = new FileReader();\n",
              "      reader.onload = (e) => {\n",
              "        resolve(e.target.result);\n",
              "      };\n",
              "      reader.readAsArrayBuffer(file);\n",
              "    });\n",
              "    // Wait for the data to be ready.\n",
              "    let fileData = yield {\n",
              "      promise: fileDataPromise,\n",
              "      response: {\n",
              "        action: 'continue',\n",
              "      }\n",
              "    };\n",
              "\n",
              "    // Use a chunked sending to avoid message size limits. See b/62115660.\n",
              "    let position = 0;\n",
              "    do {\n",
              "      const length = Math.min(fileData.byteLength - position, MAX_PAYLOAD_SIZE);\n",
              "      const chunk = new Uint8Array(fileData, position, length);\n",
              "      position += length;\n",
              "\n",
              "      const base64 = btoa(String.fromCharCode.apply(null, chunk));\n",
              "      yield {\n",
              "        response: {\n",
              "          action: 'append',\n",
              "          file: file.name,\n",
              "          data: base64,\n",
              "        },\n",
              "      };\n",
              "\n",
              "      let percentDone = fileData.byteLength === 0 ?\n",
              "          100 :\n",
              "          Math.round((position / fileData.byteLength) * 100);\n",
              "      percent.textContent = `${percentDone}% done`;\n",
              "\n",
              "    } while (position < fileData.byteLength);\n",
              "  }\n",
              "\n",
              "  // All done.\n",
              "  yield {\n",
              "    response: {\n",
              "      action: 'complete',\n",
              "    }\n",
              "  };\n",
              "}\n",
              "\n",
              "scope.google = scope.google || {};\n",
              "scope.google.colab = scope.google.colab || {};\n",
              "scope.google.colab._files = {\n",
              "  _uploadFiles,\n",
              "  _uploadFilesContinue,\n",
              "};\n",
              "})(self);\n",
              "</script> "
            ],
            "text/plain": [
              "<IPython.core.display.HTML object>"
            ]
          },
          "metadata": {},
          "output_type": "display_data"
        },
        {
          "name": "stdout",
          "output_type": "stream",
          "text": [
            "Saving train.xlsx to train.xlsx\n",
            "Upload 'evaluation.xlsx':\n"
          ]
        },
        {
          "data": {
            "text/html": [
              "\n",
              "     <input type=\"file\" id=\"files-f78d8831-2ce8-49d2-bdca-e279d3afe9eb\" name=\"files[]\" multiple disabled\n",
              "        style=\"border:none\" />\n",
              "     <output id=\"result-f78d8831-2ce8-49d2-bdca-e279d3afe9eb\">\n",
              "      Upload widget is only available when the cell has been executed in the\n",
              "      current browser session. Please rerun this cell to enable.\n",
              "      </output>\n",
              "      <script>// Copyright 2017 Google LLC\n",
              "//\n",
              "// Licensed under the Apache License, Version 2.0 (the \"License\");\n",
              "// you may not use this file except in compliance with the License.\n",
              "// You may obtain a copy of the License at\n",
              "//\n",
              "//      http://www.apache.org/licenses/LICENSE-2.0\n",
              "//\n",
              "// Unless required by applicable law or agreed to in writing, software\n",
              "// distributed under the License is distributed on an \"AS IS\" BASIS,\n",
              "// WITHOUT WARRANTIES OR CONDITIONS OF ANY KIND, either express or implied.\n",
              "// See the License for the specific language governing permissions and\n",
              "// limitations under the License.\n",
              "\n",
              "/**\n",
              " * @fileoverview Helpers for google.colab Python module.\n",
              " */\n",
              "(function(scope) {\n",
              "function span(text, styleAttributes = {}) {\n",
              "  const element = document.createElement('span');\n",
              "  element.textContent = text;\n",
              "  for (const key of Object.keys(styleAttributes)) {\n",
              "    element.style[key] = styleAttributes[key];\n",
              "  }\n",
              "  return element;\n",
              "}\n",
              "\n",
              "// Max number of bytes which will be uploaded at a time.\n",
              "const MAX_PAYLOAD_SIZE = 100 * 1024;\n",
              "\n",
              "function _uploadFiles(inputId, outputId) {\n",
              "  const steps = uploadFilesStep(inputId, outputId);\n",
              "  const outputElement = document.getElementById(outputId);\n",
              "  // Cache steps on the outputElement to make it available for the next call\n",
              "  // to uploadFilesContinue from Python.\n",
              "  outputElement.steps = steps;\n",
              "\n",
              "  return _uploadFilesContinue(outputId);\n",
              "}\n",
              "\n",
              "// This is roughly an async generator (not supported in the browser yet),\n",
              "// where there are multiple asynchronous steps and the Python side is going\n",
              "// to poll for completion of each step.\n",
              "// This uses a Promise to block the python side on completion of each step,\n",
              "// then passes the result of the previous step as the input to the next step.\n",
              "function _uploadFilesContinue(outputId) {\n",
              "  const outputElement = document.getElementById(outputId);\n",
              "  const steps = outputElement.steps;\n",
              "\n",
              "  const next = steps.next(outputElement.lastPromiseValue);\n",
              "  return Promise.resolve(next.value.promise).then((value) => {\n",
              "    // Cache the last promise value to make it available to the next\n",
              "    // step of the generator.\n",
              "    outputElement.lastPromiseValue = value;\n",
              "    return next.value.response;\n",
              "  });\n",
              "}\n",
              "\n",
              "/**\n",
              " * Generator function which is called between each async step of the upload\n",
              " * process.\n",
              " * @param {string} inputId Element ID of the input file picker element.\n",
              " * @param {string} outputId Element ID of the output display.\n",
              " * @return {!Iterable<!Object>} Iterable of next steps.\n",
              " */\n",
              "function* uploadFilesStep(inputId, outputId) {\n",
              "  const inputElement = document.getElementById(inputId);\n",
              "  inputElement.disabled = false;\n",
              "\n",
              "  const outputElement = document.getElementById(outputId);\n",
              "  outputElement.innerHTML = '';\n",
              "\n",
              "  const pickedPromise = new Promise((resolve) => {\n",
              "    inputElement.addEventListener('change', (e) => {\n",
              "      resolve(e.target.files);\n",
              "    });\n",
              "  });\n",
              "\n",
              "  const cancel = document.createElement('button');\n",
              "  inputElement.parentElement.appendChild(cancel);\n",
              "  cancel.textContent = 'Cancel upload';\n",
              "  const cancelPromise = new Promise((resolve) => {\n",
              "    cancel.onclick = () => {\n",
              "      resolve(null);\n",
              "    };\n",
              "  });\n",
              "\n",
              "  // Wait for the user to pick the files.\n",
              "  const files = yield {\n",
              "    promise: Promise.race([pickedPromise, cancelPromise]),\n",
              "    response: {\n",
              "      action: 'starting',\n",
              "    }\n",
              "  };\n",
              "\n",
              "  cancel.remove();\n",
              "\n",
              "  // Disable the input element since further picks are not allowed.\n",
              "  inputElement.disabled = true;\n",
              "\n",
              "  if (!files) {\n",
              "    return {\n",
              "      response: {\n",
              "        action: 'complete',\n",
              "      }\n",
              "    };\n",
              "  }\n",
              "\n",
              "  for (const file of files) {\n",
              "    const li = document.createElement('li');\n",
              "    li.append(span(file.name, {fontWeight: 'bold'}));\n",
              "    li.append(span(\n",
              "        `(${file.type || 'n/a'}) - ${file.size} bytes, ` +\n",
              "        `last modified: ${\n",
              "            file.lastModifiedDate ? file.lastModifiedDate.toLocaleDateString() :\n",
              "                                    'n/a'} - `));\n",
              "    const percent = span('0% done');\n",
              "    li.appendChild(percent);\n",
              "\n",
              "    outputElement.appendChild(li);\n",
              "\n",
              "    const fileDataPromise = new Promise((resolve) => {\n",
              "      const reader = new FileReader();\n",
              "      reader.onload = (e) => {\n",
              "        resolve(e.target.result);\n",
              "      };\n",
              "      reader.readAsArrayBuffer(file);\n",
              "    });\n",
              "    // Wait for the data to be ready.\n",
              "    let fileData = yield {\n",
              "      promise: fileDataPromise,\n",
              "      response: {\n",
              "        action: 'continue',\n",
              "      }\n",
              "    };\n",
              "\n",
              "    // Use a chunked sending to avoid message size limits. See b/62115660.\n",
              "    let position = 0;\n",
              "    do {\n",
              "      const length = Math.min(fileData.byteLength - position, MAX_PAYLOAD_SIZE);\n",
              "      const chunk = new Uint8Array(fileData, position, length);\n",
              "      position += length;\n",
              "\n",
              "      const base64 = btoa(String.fromCharCode.apply(null, chunk));\n",
              "      yield {\n",
              "        response: {\n",
              "          action: 'append',\n",
              "          file: file.name,\n",
              "          data: base64,\n",
              "        },\n",
              "      };\n",
              "\n",
              "      let percentDone = fileData.byteLength === 0 ?\n",
              "          100 :\n",
              "          Math.round((position / fileData.byteLength) * 100);\n",
              "      percent.textContent = `${percentDone}% done`;\n",
              "\n",
              "    } while (position < fileData.byteLength);\n",
              "  }\n",
              "\n",
              "  // All done.\n",
              "  yield {\n",
              "    response: {\n",
              "      action: 'complete',\n",
              "    }\n",
              "  };\n",
              "}\n",
              "\n",
              "scope.google = scope.google || {};\n",
              "scope.google.colab = scope.google.colab || {};\n",
              "scope.google.colab._files = {\n",
              "  _uploadFiles,\n",
              "  _uploadFilesContinue,\n",
              "};\n",
              "})(self);\n",
              "</script> "
            ],
            "text/plain": [
              "<IPython.core.display.HTML object>"
            ]
          },
          "metadata": {},
          "output_type": "display_data"
        },
        {
          "name": "stdout",
          "output_type": "stream",
          "text": [
            "Saving evaluation.xlsx to evaluation.xlsx\n"
          ]
        }
      ],
      "source": [
        "# Upload and load data\n",
        "from google.colab import files\n",
        "print(\"Upload 'train.xlsx':\")\n",
        "_ = files.upload()\n",
        "print(\"Upload 'evaluation.xlsx':\")\n",
        "_ = files.upload()\n",
        "\n",
        "df_train = pd.read_excel('train.xlsx')\n",
        "df_eval = pd.read_excel('evaluation.xlsx')"
      ]
    },
    {
      "cell_type": "code",
      "execution_count": null,
      "metadata": {
        "colab": {
          "base_uri": "https://localhost:8080/"
        },
        "id": "A6eG6MpYhUcp",
        "outputId": "1b27371b-ec52-4f06-c496-b9171b5a5470"
      },
      "outputs": [
        {
          "name": "stdout",
          "output_type": "stream",
          "text": [
            "Before augmentation label distribution:\n",
            " label\n",
            "0    2061\n",
            "1    2061\n",
            "Name: count, dtype: int64 \n",
            "After augmentation label distribution:\n",
            " label\n",
            "0    4122\n",
            "1    2061\n",
            "Name: count, dtype: int64 \n",
            "\n",
            "Minority class (1) has 2061 samples; Majority class (0) has 4122 samples.\n",
            "\n",
            "Final balanced distribution:\n",
            " label\n",
            "1    4122\n",
            "0    4122\n",
            "Name: count, dtype: int64\n",
            "label\n",
            "1    4122\n",
            "0    4122\n",
            "Name: count, dtype: int64\n",
            "After augmentation: label\n",
            "1    8244\n",
            "0    4122\n",
            "Name: count, dtype: int64\n"
          ]
        }
      ],
      "source": [
        "# Cell 4: Augment & properly balance classes\n",
        "df_train.dropna(subset=['text','reason','label'], inplace=True)\n",
        "print(\"Before augmentation label distribution:\\n\", df_train['label'].value_counts(), \"\")\n",
        "\n",
        "# 2. Create synthetic negative examples by shuffling 'reason' from positive samples\n",
        "pos_df = df_train[df_train.label == 1]\n",
        "shuffled_neg = pos_df.copy()\n",
        "shuffled_neg['reason'] = np.random.permutation(shuffled_neg['reason'].values)\n",
        "shuffled_neg['label']  = 0  # explicitly label as negative class\n",
        "\n",
        "# 3. Combine original data with synthetic negatives & shuffle\n",
        "df_train_aug = pd.concat([df_train, shuffled_neg], ignore_index=True)\n",
        "df_train_aug = df_train_aug.sample(frac=1.0, random_state=42).reset_index(drop=True)\n",
        "print(\"After augmentation label distribution:\\n\", df_train_aug['label'].value_counts(), \"\\n\")\n",
        "\n",
        "# 4. Now balance classes by upsampling the minority to match the majority\n",
        "df_pos = df_train_aug[df_train_aug.label == 1]\n",
        "df_neg = df_train_aug[df_train_aug.label == 0]\n",
        "\n",
        "# Identify minority / majority\n",
        "if len(df_pos) > len(df_neg):\n",
        "    df_min, df_maj = df_neg, df_pos\n",
        "else:\n",
        "    df_min, df_maj = df_pos, df_neg\n",
        "\n",
        "print(f\"Minority class ({df_min.label.iloc[0]}) has {len(df_min)} samples; \"\n",
        "      f\"Majority class ({df_maj.label.iloc[0]}) has {len(df_maj)} samples.\\n\")\n",
        "\n",
        "# Upsample minority class\n",
        "df_min_upsampled = df_min.sample(\n",
        "    n=len(df_maj),\n",
        "    replace=True,\n",
        "    random_state=42\n",
        ")\n",
        "\n",
        "# Combine & shuffle final balanced dataset\n",
        "df_balanced = pd.concat([df_maj, df_min_upsampled], ignore_index=True)\n",
        "df_balanced = df_balanced.sample(frac=1.0, random_state=42).reset_index(drop=True)\n",
        "\n",
        "print(\"Final balanced distribution:\\n\", df_balanced['label'].value_counts())\n",
        "\n",
        "df_train = df_balanced  # overwrite df_train for downstream steps\n",
        "# Drop NaNs\n",
        "df_train.dropna(subset=['text','reason','label'], inplace=True)\n",
        "print(df_train['label'].value_counts())\n",
        "\n",
        "# (Optional) simple augmentation for negative class:\n",
        "neg_df = df_train[df_train.label == 0]\n",
        "pos_df = df_train[df_train.label == 1]\n",
        "# create mismatched pairs = shuffle reasons\n",
        "shuffled = pos_df.copy()\n",
        "shuffled['reason'] = np.random.permutation(shuffled['reason'].values)\n",
        "df_aug = pd.concat([df_train, shuffled]).reset_index(drop=True)\n",
        "print(\"After augmentation:\", df_aug['label'].value_counts())\n",
        "# 2. Create synthetic negative examples by shuffling 'reason' from positive samples\n",
        "pos_df = df_train[df_train.label == 1]\n",
        "shuffled_neg = pos_df.copy()\n",
        "shuffled_neg['reason'] = np.random.permutation(shuffled_neg['reason'].values)\n",
        "shuffled_neg['label']  = 0  # explicitly label as negative class"
      ]
    },
    {
      "cell_type": "code",
      "execution_count": null,
      "metadata": {
        "id": "VQKl1f8vhxYE"
      },
      "outputs": [],
      "source": [
        "# Preprocessing helper (if needed)\n",
        "def preprocess_text(text):\n",
        "    return text.strip()\n",
        "\n",
        "df_aug['text'] = df_aug['text'].apply(preprocess_text)"
      ]
    },
    {
      "cell_type": "code",
      "execution_count": null,
      "metadata": {
        "colab": {
          "base_uri": "https://localhost:8080/",
          "height": 333,
          "referenced_widgets": [
            "d2cf51c5a2044926b33edd8f0314484a",
            "1ccbfe5a517c4d07aa845a2901127881",
            "b301c1749d2441f197e18567c98ca232",
            "445d3f9d25c14447bb69b478f442946d",
            "09a2a6d82eeb4c99aa3361e600c02016",
            "01b95dbbc2ca4fc88109eb61d1bd4b5d",
            "91ce13f92ba8432a8ef4213b3fc86636",
            "5a42d8aa0cbc496f9ceb68af73d4539f",
            "9c890b304161422daef86125b6d29c2b",
            "21777f4bff8e4600ae46cd51c7b2031e",
            "6ca2a709f95d4d9eace32ca0e9e5776e",
            "4710a05c081f45d7b1379fbb085f6ed9",
            "40b16b121e154a37b49d8e12ad24f287",
            "e8a4307c58b4434dbef034f05b0f35de",
            "98470788089c41caa44422dc045e4146",
            "0dcac3e549ea48609f87fc4d8521ea25",
            "693ee8b068064bb8babc1a53e34bd97b",
            "7181360824ba4edca4af76453003d9d7",
            "96b41948ae924cbdb43154bfe83d0570",
            "503bb417ce484d5d8e0fe01e14542abc",
            "6073bcbbc88f40bc8ace9ef691d65552",
            "739378603f924664a8181b256b8c78ef",
            "b750169cd060443bbfb8dc0996104e9e",
            "6b689c3dfbd34fd5b0f3d8e75a0d86d1",
            "43a489465b6140a9bcc945b6db958a77",
            "a7e4866221bc4e03816ec29bd3f3f615",
            "f5459b2ba0d542bf8147a95c4dde321f",
            "aabdfc40aeb0461f9a7ada8e5ac9795a",
            "5b1d01030398484eb701aba5bf7447f5",
            "8078743db0ae432288a6580fcd7e33ca",
            "164c04e661b24f4594e26de9d92103f5",
            "f6d030471f56493c82e659469053b072",
            "d32453a0ed734acc893e2c5072aff31b",
            "1620ede2d3f84750ad36f60228c45ff8",
            "1b611eec88e840e28849c13ab0539d75",
            "0ece308203214f85a3e0d690d88aa117",
            "164c6ce8276e491b8880a9a06277f93b",
            "d9c38fd142eb47878d77e73fc54d0464",
            "8ec24a9eeaeb4fabae5fb79c530b4a14",
            "d467f4d2e2304f4faba3d7860dbbb6a5",
            "c39e6fea4c164ba0a69117b73a2e8969",
            "887e25d5f375458980c2e9d0f1f69623",
            "e29e233fcc924b21b1ab5623d30fe259",
            "d8178c9372164681b77539d236452ecc",
            "2d852a85f57249c9ba285a6713ebd1cc",
            "956ae864cf994f0d874f877187b12357",
            "30dbee5359434788965a0115728a61ed",
            "2bf5b466f1ef49ff8099897ed718c4af",
            "8c494fd1c1534b15ad28ddf59c7bd1f3",
            "1becec9c36054bbb87d8fc65f85dc394",
            "6b482dee924e491a9f2013e56a0ce169",
            "58cc52db2a4f48639dd127fd6fef1a50",
            "c42209d299a9435fb2ea0ecb4d7b7071",
            "7fcd5b9ef9f1472aaf66bc6ed31eed9d",
            "5c537dd49cdf4929b90136063c1b9664",
            "7e274406818a46608cfa3b260707ac91",
            "906d476e11494f589b9c9f47a70b60bb",
            "a1964a9be85f48a9ad21b2ea4af6bce3",
            "44ffc9ac30704a8284780ccb4fb7b3d0",
            "f753e1663bad4a468f9cb51c79032c32",
            "062d2823d1bd47bc92abcd4cafb633f3",
            "b9b9c3b534cd4ed9b0a7a018fabfa376",
            "b629fb11fb874baaa246dd3e7d0d926e",
            "116fa80d90be4155ad414bd755a61d2a",
            "056686cbf97e4ea28b278634800e0c29",
            "76372c2ed6f74e38b61576a365804125"
          ]
        },
        "id": "s4pIW0aRh0ww",
        "outputId": "e40d9f08-4630-4650-bee7-d57737903734"
      },
      "outputs": [
        {
          "name": "stderr",
          "output_type": "stream",
          "text": [
            "/usr/local/lib/python3.11/dist-packages/huggingface_hub/utils/_auth.py:94: UserWarning: \n",
            "The secret `HF_TOKEN` does not exist in your Colab secrets.\n",
            "To authenticate with the Hugging Face Hub, create a token in your settings tab (https://huggingface.co/settings/tokens), set it as secret in your Google Colab and restart your session.\n",
            "You will be able to reuse this secret in all of your notebooks.\n",
            "Please note that authentication is recommended but still optional to access public models or datasets.\n",
            "  warnings.warn(\n"
          ]
        },
        {
          "data": {
            "application/vnd.jupyter.widget-view+json": {
              "model_id": "d2cf51c5a2044926b33edd8f0314484a",
              "version_major": 2,
              "version_minor": 0
            },
            "text/plain": [
              "tokenizer_config.json:   0%|          | 0.00/48.0 [00:00<?, ?B/s]"
            ]
          },
          "metadata": {},
          "output_type": "display_data"
        },
        {
          "data": {
            "application/vnd.jupyter.widget-view+json": {
              "model_id": "4710a05c081f45d7b1379fbb085f6ed9",
              "version_major": 2,
              "version_minor": 0
            },
            "text/plain": [
              "config.json:   0%|          | 0.00/570 [00:00<?, ?B/s]"
            ]
          },
          "metadata": {},
          "output_type": "display_data"
        },
        {
          "data": {
            "application/vnd.jupyter.widget-view+json": {
              "model_id": "b750169cd060443bbfb8dc0996104e9e",
              "version_major": 2,
              "version_minor": 0
            },
            "text/plain": [
              "vocab.txt:   0%|          | 0.00/232k [00:00<?, ?B/s]"
            ]
          },
          "metadata": {},
          "output_type": "display_data"
        },
        {
          "data": {
            "application/vnd.jupyter.widget-view+json": {
              "model_id": "1620ede2d3f84750ad36f60228c45ff8",
              "version_major": 2,
              "version_minor": 0
            },
            "text/plain": [
              "tokenizer.json:   0%|          | 0.00/466k [00:00<?, ?B/s]"
            ]
          },
          "metadata": {},
          "output_type": "display_data"
        },
        {
          "data": {
            "application/vnd.jupyter.widget-view+json": {
              "model_id": "2d852a85f57249c9ba285a6713ebd1cc",
              "version_major": 2,
              "version_minor": 0
            },
            "text/plain": [
              "Map:   0%|          | 0/12366 [00:00<?, ? examples/s]"
            ]
          },
          "metadata": {},
          "output_type": "display_data"
        },
        {
          "data": {
            "application/vnd.jupyter.widget-view+json": {
              "model_id": "7e274406818a46608cfa3b260707ac91",
              "version_major": 2,
              "version_minor": 0
            },
            "text/plain": [
              "Map:   0%|          | 0/9000 [00:00<?, ? examples/s]"
            ]
          },
          "metadata": {},
          "output_type": "display_data"
        }
      ],
      "source": [
        "# Tokenization\n",
        "tokenizer = AutoTokenizer.from_pretrained('bert-base-uncased')\n",
        "\n",
        "def tokenize_fn(batch):\n",
        "    return tokenizer(batch['text'], batch['reason'], truncation=True, padding='max_length', max_length=128)\n",
        "\n",
        "# Convert to Hugging Face Dataset\n",
        "hf_train = Dataset.from_pandas(df_aug)\n",
        "hf_eval = Dataset.from_pandas(df_eval)\n",
        "\n",
        "# Tokenize\n",
        "hf_train = hf_train.map(tokenize_fn, batched=True)\n",
        "hf_eval = hf_eval.map(tokenize_fn, batched=True)\n",
        "\n",
        "# Set format\n",
        "hf_train.set_format(type='torch', columns=['input_ids','attention_mask','label'])\n",
        "hf_eval.set_format(type='torch', columns=['input_ids','attention_mask','label'])"
      ]
    },
    {
      "cell_type": "code",
      "execution_count": null,
      "metadata": {
        "colab": {
          "base_uri": "https://localhost:8080/",
          "height": 138,
          "referenced_widgets": [
            "eb86913be22f4fea823345d1d7d1722b",
            "09af190aef164db18037b920ec954460",
            "fdcfa8fda6e04bc5bfd2a4c2daa0056a",
            "52c098b64bd74b36aba82716a224f87a",
            "601387167c2c45cd92c02ecb8a2c65ea",
            "7a6c2f2c7631413f90b6b7928dc9ed73",
            "4397dc43e885470fa661ad15cac3e0da",
            "49d1da3a2ee14ef1b6885b3fe4163fd6",
            "cb0f14d7fc4d43ee9771e7dbed947171",
            "99b0220ff06b4c55aa7b2884591a278a",
            "69f9aaa528a54d249d3d0862a4990e49"
          ]
        },
        "id": "4diVRA1-h-gK",
        "outputId": "aa488597-91c2-4a12-a9ce-f5065cc808da"
      },
      "outputs": [
        {
          "name": "stderr",
          "output_type": "stream",
          "text": [
            "Xet Storage is enabled for this repo, but the 'hf_xet' package is not installed. Falling back to regular HTTP download. For better performance, install the package with: `pip install huggingface_hub[hf_xet]` or `pip install hf_xet`\n",
            "WARNING:huggingface_hub.file_download:Xet Storage is enabled for this repo, but the 'hf_xet' package is not installed. Falling back to regular HTTP download. For better performance, install the package with: `pip install huggingface_hub[hf_xet]` or `pip install hf_xet`\n"
          ]
        },
        {
          "data": {
            "application/vnd.jupyter.widget-view+json": {
              "model_id": "eb86913be22f4fea823345d1d7d1722b",
              "version_major": 2,
              "version_minor": 0
            },
            "text/plain": [
              "model.safetensors:   0%|          | 0.00/440M [00:00<?, ?B/s]"
            ]
          },
          "metadata": {},
          "output_type": "display_data"
        },
        {
          "name": "stderr",
          "output_type": "stream",
          "text": [
            "Some weights of BertForSequenceClassification were not initialized from the model checkpoint at bert-base-uncased and are newly initialized: ['classifier.bias', 'classifier.weight']\n",
            "You should probably TRAIN this model on a down-stream task to be able to use it for predictions and inference.\n"
          ]
        }
      ],
      "source": [
        "# Model & TrainingArguments\n",
        "import os\n",
        "os.environ[\"WANDB_DISABLED\"] = \"true\"\n",
        "from transformers import AutoModelForSequenceClassification\n",
        "model = AutoModelForSequenceClassification.from_pretrained('bert-base-uncased', num_labels=2)\n",
        "\n",
        "training_args = TrainingArguments(\n",
        "    output_dir=\"./results\",\n",
        "    num_train_epochs=3,\n",
        "    per_device_train_batch_size=8,\n",
        "    per_device_eval_batch_size=8,\n",
        "    eval_strategy=\"epoch\",\n",
        "    save_strategy=\"epoch\",\n",
        "    logging_dir=\"./logs\",\n",
        "    logging_steps=10,\n",
        "    load_best_model_at_end=True,\n",
        "    metric_for_best_model=\"accuracy\",\n",
        "    greater_is_better=True,\n",
        "    report_to=\"none\",\n",
        "    save_total_limit=1\n",
        ")"
      ]
    },
    {
      "cell_type": "code",
      "execution_count": null,
      "metadata": {
        "id": "PODZ6vQRiEJO"
      },
      "outputs": [],
      "source": [
        "# Metrics function\n",
        "def compute_metrics(p):\n",
        "    preds = np.argmax(p.predictions, axis=1)\n",
        "    labels = p.label_ids\n",
        "    acc = accuracy_score(labels, preds)\n",
        "    precision, recall, f1, _ = precision_recall_fscore_support(labels, preds, average='binary')\n",
        "    cm = confusion_matrix(labels, preds)\n",
        "    return {'accuracy': acc, 'precision': precision, 'recall': recall, 'f1': f1}"
      ]
    },
    {
      "cell_type": "code",
      "execution_count": null,
      "metadata": {
        "colab": {
          "base_uri": "https://localhost:8080/",
          "height": 259
        },
        "id": "LG0Mi-SQiJWE",
        "outputId": "abfd6b05-5de1-4e86-a6b6-1cc374c70b36"
      },
      "outputs": [
        {
          "name": "stderr",
          "output_type": "stream",
          "text": [
            "<ipython-input-13-31853e6a2f3b>:2: FutureWarning: `tokenizer` is deprecated and will be removed in version 5.0.0 for `Trainer.__init__`. Use `processing_class` instead.\n",
            "  trainer = Trainer(\n"
          ]
        },
        {
          "data": {
            "text/html": [
              "\n",
              "    <div>\n",
              "      \n",
              "      <progress value='4638' max='4638' style='width:300px; height:20px; vertical-align: middle;'></progress>\n",
              "      [4638/4638 18:35, Epoch 3/3]\n",
              "    </div>\n",
              "    <table border=\"1\" class=\"dataframe\">\n",
              "  <thead>\n",
              " <tr style=\"text-align: left;\">\n",
              "      <th>Epoch</th>\n",
              "      <th>Training Loss</th>\n",
              "      <th>Validation Loss</th>\n",
              "      <th>Accuracy</th>\n",
              "      <th>Precision</th>\n",
              "      <th>Recall</th>\n",
              "      <th>F1</th>\n",
              "    </tr>\n",
              "  </thead>\n",
              "  <tbody>\n",
              "    <tr>\n",
              "      <td>1</td>\n",
              "      <td>0.556400</td>\n",
              "      <td>1.072177</td>\n",
              "      <td>0.336667</td>\n",
              "      <td>0.334449</td>\n",
              "      <td>0.999334</td>\n",
              "      <td>0.501170</td>\n",
              "    </tr>\n",
              "    <tr>\n",
              "      <td>2</td>\n",
              "      <td>0.590200</td>\n",
              "      <td>0.991896</td>\n",
              "      <td>0.348889</td>\n",
              "      <td>0.338274</td>\n",
              "      <td>0.996335</td>\n",
              "      <td>0.505068</td>\n",
              "    </tr>\n",
              "    <tr>\n",
              "      <td>3</td>\n",
              "      <td>0.558100</td>\n",
              "      <td>1.434392</td>\n",
              "      <td>0.400000</td>\n",
              "      <td>0.355465</td>\n",
              "      <td>0.983006</td>\n",
              "      <td>0.522124</td>\n",
              "    </tr>\n",
              "  </tbody>\n",
              "</table><p>"
            ],
            "text/plain": [
              "<IPython.core.display.HTML object>"
            ]
          },
          "metadata": {},
          "output_type": "display_data"
        },
        {
          "data": {
            "text/plain": [
              "TrainOutput(global_step=4638, training_loss=0.5978882917817063, metrics={'train_runtime': 1116.4435, 'train_samples_per_second': 33.229, 'train_steps_per_second': 4.154, 'total_flos': 2440223482936320.0, 'train_loss': 0.5978882917817063, 'epoch': 3.0})"
            ]
          },
          "execution_count": 13,
          "metadata": {},
          "output_type": "execute_result"
        }
      ],
      "source": [
        "# Trainer setup & train\n",
        "trainer = Trainer(\n",
        "    model=model,\n",
        "    args=training_args,\n",
        "    train_dataset=hf_train,\n",
        "    eval_dataset=hf_eval,\n",
        "    tokenizer=tokenizer,\n",
        "    compute_metrics=compute_metrics\n",
        ")\n",
        "\n",
        "trainer.train()"
      ]
    },
    {
      "cell_type": "code",
      "execution_count": null,
      "metadata": {
        "colab": {
          "base_uri": "https://localhost:8080/",
          "height": 509
        },
        "id": "Rax0hYa_iPCg",
        "outputId": "23f4fc03-3f66-407e-85be-ab5697ff1a28"
      },
      "outputs": [
        {
          "data": {
            "text/html": [],
            "text/plain": [
              "<IPython.core.display.HTML object>"
            ]
          },
          "metadata": {},
          "output_type": "display_data"
        },
        {
          "name": "stdout",
          "output_type": "stream",
          "text": [
            "{'eval_loss': 1.4343916177749634, 'eval_accuracy': 0.4, 'eval_precision': 0.355464513796843, 'eval_recall': 0.9830056647784072, 'eval_f1': 0.5221238938053098, 'eval_runtime': 66.0988, 'eval_samples_per_second': 136.16, 'eval_steps_per_second': 17.02, 'epoch': 3.0}\n"
          ]
        },
        {
          "data": {
            "image/png": "[encoded data removed]",
            "text/plain": [
              "<Figure size 640x480 with 2 Axes>"
            ]
          },
          "metadata": {},
          "output_type": "display_data"
        }
      ],
      "source": [
        "# Evaluate & visualize\n",
        "metrics = trainer.evaluate()\n",
        "print(metrics)\n",
        "\n",
        "# Confusion matrix\n",
        "import seaborn as sns, matplotlib.pyplot as plt\n",
        "cm = confusion_matrix(hf_eval['label'], np.argmax(trainer.predict(hf_eval).predictions, axis=1))\n",
        "sns.heatmap(cm, annot=True, fmt='d')\n",
        "plt.title('Confusion Matrix')\n",
        "plt.xlabel('Predicted')\n",
        "plt.ylabel('Actual')\n",
        "plt.show()"
      ]
    },
    {
      "cell_type": "code",
      "execution_count": null,
      "metadata": {
        "colab": {
          "base_uri": "https://localhost:8080/",
          "height": 411,
          "referenced_widgets": [
            "dd362750aed14110a66e64f844c17634",
            "d34206155dfc452eb7324bc5045b4443",
            "58bf299a2b114f01b402d06556af3a44",
            "45cadc68166443f6b4765dc2e91b54be",
            "1888722122fd41c8ab6cc0c0a129dc6a",
            "3a9b17f89374489a853f27d21e272d06",
            "9d23dc64a7f240748a49e470962d2fa6",
            "92b10c1600f8417bb8ef7938cd328cfb",
            "63d7e15d126143f0801fccaec416231a",
            "391d0352fe114be19806b89f43d7477e",
            "9629ac10b4d4431fb1faf987f8a441d3",
            "84690f56325b46c28049adfc1aef953b",
            "50624f0551234974989be06ca55dd8c1",
            "f84309fbfaa04364b24698e82595345d",
            "0123f48cf93343a38bbc517fa516695a",
            "4f0944e41c154606aac050f814ca2d04",
            "004ea08da0c84a86810b91d15f82a496",
            "a0064b5e5d02499da610ec6ced66c4ea",
            "d4de6dabad5b42d18eacc286c052c693",
            "131cd6ab289f4d86b7c585079dc2fbe3",
            "d199ff9652314dc09476ac6c80c2ff47",
            "8623442e4cb64420bbb3aad3bdc51919"
          ]
        },
        "id": "NPQ5HnO2iTCx",
        "outputId": "b0a923c6-82d0-49b3-c24b-8530da28a3b9"
      },
      "outputs": [
        {
          "name": "stdout",
          "output_type": "stream",
          "text": [
            "\n",
            "    _|    _|  _|    _|    _|_|_|    _|_|_|  _|_|_|  _|      _|    _|_|_|      _|_|_|_|    _|_|      _|_|_|  _|_|_|_|\n",
            "    _|    _|  _|    _|  _|        _|          _|    _|_|    _|  _|            _|        _|    _|  _|        _|\n",
            "    _|_|_|_|  _|    _|  _|  _|_|  _|  _|_|    _|    _|  _|  _|  _|  _|_|      _|_|_|    _|_|_|_|  _|        _|_|_|\n",
            "    _|    _|  _|    _|  _|    _|  _|    _|    _|    _|    _|_|  _|    _|      _|        _|    _|  _|        _|\n",
            "    _|    _|    _|_|      _|_|_|    _|_|_|  _|_|_|  _|      _|    _|_|_|      _|        _|    _|    _|_|_|  _|_|_|_|\n",
            "\n",
            "    To log in, `huggingface_hub` requires a token generated from https://huggingface.co/settings/tokens .\n",
            "Enter your token (input will not be visible): \n",
            "Add token as git credential? (Y/n) n\n",
            "Token is valid (permission: write).\n",
            "The token `bert-based-un` has been saved to /root/.cache/huggingface/stored_tokens\n",
            "Your token has been saved to /root/.cache/huggingface/token\n",
            "Login successful.\n",
            "The current active token is: `bert-based-un`\n"
          ]
        },
        {
          "data": {
            "application/vnd.jupyter.widget-view+json": {
              "model_id": "dd362750aed14110a66e64f844c17634",
              "version_major": 2,
              "version_minor": 0
            },
            "text/plain": [
              "README.md:   0%|          | 0.00/5.17k [00:00<?, ?B/s]"
            ]
          },
          "metadata": {},
          "output_type": "display_data"
        },
        {
          "data": {
            "application/vnd.jupyter.widget-view+json": {
              "model_id": "84690f56325b46c28049adfc1aef953b",
              "version_major": 2,
              "version_minor": 0
            },
            "text/plain": [
              "model.safetensors:   0%|          | 0.00/438M [00:00<?, ?B/s]"
            ]
          },
          "metadata": {},
          "output_type": "display_data"
        },
        {
          "data": {
            "application/vnd.google.colaboratory.intrinsic+json": {
              "type": "string"
            },
            "text/plain": [
              "CommitInfo(commit_url='https://huggingface.co/Theleebebe/my-zoom-fb-validation-model/commit/31bf2732bb1910f1af1fba25056c46cfa5739f94', commit_message='Upload BertForSequenceClassification', commit_description='', oid='31bf2732bb1910f1af1fba25056c46cfa5739f94', pr_url=None, repo_url=RepoUrl('https://huggingface.co/Theleebebe/my-zoom-fb-validation-model', endpoint='https://huggingface.co', repo_type='model', repo_id='Theleebebe/my-zoom-fb-validation-model'), pr_revision=None, pr_num=None)"
            ]
          },
          "execution_count": 17,
          "metadata": {},
          "output_type": "execute_result"
        }
      ],
      "source": [
        "# Save model\n",
        "!huggingface-cli login  # Log in to your Hugging Face account\n",
        "model.push_to_hub('my-zoom-fb-validation-model')"
      ]
    },
    {
      "cell_type": "code",
      "execution_count": null,
      "metadata": {
        "id": "Iz66UxEOiXpp"
      },
      "outputs": [],
      "source": [
        "import torch\n",
        "\n",
        "# Move model → GPU/CPU and set eval mode\n",
        "device = torch.device(\"cuda\" if torch.cuda.is_available() else \"cpu\")\n",
        "model.to(device)\n",
        "model.eval()\n",
        "THRESHOLD = 0.8\n",
        "def predict_fn(text, reason):\n",
        "    try:\n",
        "        inputs = tokenizer(\n",
        "            text,\n",
        "            reason,\n",
        "            truncation=True,\n",
        "            padding='max_length',\n",
        "            max_length=128,\n",
        "            return_tensors='pt'\n",
        "        )\n",
        "        inputs = {k: v.to(device) for k, v in inputs.items()}\n",
        "\n",
        "        with torch.no_grad():\n",
        "            outputs = model(**inputs)\n",
        "            probs = torch.softmax(outputs.logits, dim=1)[0].cpu().numpy()\n",
        "\n",
        "        aligned_prob = float(probs[1])\n",
        "        not_aligned_prob = float(probs[0])\n",
        "\n",
        "        label = 1 if aligned_prob >= THRESHOLD else 0\n",
        "        return {\n",
        "            \"Aligned (1)\": aligned_prob,\n",
        "            \"Not Aligned (0)\": not_aligned_prob,\n",
        "            \"Predicted Label\": label\n",
        "            }\n",
        "    except Exception as e:\n",
        "        return {\"Error\": str(e)}"
      ]
    },
    {
      "cell_type": "code",
      "execution_count": null,
      "metadata": {
        "colab": {
          "base_uri": "https://localhost:8080/",
          "height": 611
        },
        "id": "1MPNVwGFiln0",
        "outputId": "7a1fedee-ed68-42c7-c290-dd5484ee9075"
      },
      "outputs": [
        {
          "name": "stdout",
          "output_type": "stream",
          "text": [
            "Colab notebook detected. To show errors in colab notebook, set debug=True in launch()\n",
            "* Running on public URL: https://01f314080890b6dd89.gradio.live\n",
            "\n",
            "This share link expires in 1 week. For free permanent hosting and GPU upgrades, run `gradio deploy` from the terminal in the working directory to deploy to Hugging Face Spaces (https://huggingface.co/spaces)\n"
          ]
        },
        {
          "data": {
            "text/html": [
              "<div><iframe src=\"https://01f314080890b6dd89.gradio.live\" width=\"100%\" height=\"500\" allow=\"autoplay; camera; microphone; clipboard-read; clipboard-write;\" frameborder=\"0\" allowfullscreen></iframe></div>"
            ],
            "text/plain": [
              "<IPython.core.display.HTML object>"
            ]
          },
          "metadata": {},
          "output_type": "display_data"
        },
        {
          "data": {
            "text/plain": []
          },
          "execution_count": 20,
          "metadata": {},
          "output_type": "execute_result"
        }
      ],
      "source": [
        "import gradio as gr\n",
        "\n",
        "iface = gr.Interface(\n",
        "    fn=predict_fn,\n",
        "    inputs=[\n",
        "        gr.Textbox(lines=2, placeholder=\"Enter the output text here…\", label=\"Output\"),\n",
        "        gr.Textbox(lines=2, placeholder=\"Enter the feedback/reason here…\", label=\"Reason\")\n",
        "    ],\n",
        "    outputs=gr.Label(num_top_classes=2),\n",
        "    title=\"My Zoom: Feedback Validator\"\n",
        ")\n",
        "\n",
        "iface.launch(share=True)"
      ]
    }
  ],
  "metadata": {
    "accelerator": "GPU",
    "colab": {
      "gpuType": "T4",
      "provenance": [],
      "include_colab_link": true
    },
    "kernelspec": {
      "display_name": "Python 3",
      "name": "python3"
    },
    "language_info": {
      "name": "python"
    }
  },
  "nbformat": 4,
  "nbformat_minor": 0
}